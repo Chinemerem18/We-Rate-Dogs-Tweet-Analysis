{
 "cells": [
  {
   "cell_type": "markdown",
   "metadata": {},
   "source": [
    "## Report: act_report\n",
    "* Create a **250-word-minimum written report** called \"act_report.pdf\" or \"act_report.html\" that communicates the insights and displays the visualization(s) produced from your wrangled data. This is to be framed as an external document, like a blog post or magazine article, for example."
   ]
  },
  {
   "cell_type": "code",
   "execution_count": 8,
   "metadata": {},
   "outputs": [],
   "source": [
    "text = '''<html>\n",
    "    <body>\n",
    "        <h1>Act Report</h1>\n",
    "        <p>Analysing and visualising data are the final stages to any data analysis process. Analysing the WeRateDogs dataset was a thrilling experience as it allowed us to garner precious insight from the data</p>\n",
    "        <p> The data was gathered from three different sources after which it was cleaned and analysed.</p>\n",
    "        <p> The project was a very fun one as it tested a lot of my skills as a data analyst. Those include:</p>\n",
    "         <ul>\n",
    "        <li>Downloading files programatically </li>\n",
    "        <li>Querying an API</li>\n",
    "        <li>Data Cleaning/Wrangling</li>\n",
    "        <li>Data Analysis</li>\n",
    "        <li>Data Visualisation</li>\n",
    "        </ul>\n",
    "        <h2>Insights</h2>\n",
    "        <p>Here are some insights I derived from the cleaned master dataset</p>\n",
    "        <img src=\"pupper.jfif\" alt=\"A picture of a pupper\" >\n",
    "        <p>\n",
    "        <ul>\n",
    "        <li>The average rating for a dog is 12/10. It might be shocking that the numerators are bigger than the denominators but WeRateDogs have a peculiar rating system where most ratings are greater than 10.</li>\n",
    "        <li>Puppers are the dogs that are rated the most. Although most dogs dont have their stages identified, of those that do, Puppers have the highest count.</li>\n",
    "        </li> Puppos have the highest average like per post. I guess people really love their puppos. They show this by liking their posts more than all the others</li>\n",
    "        </ul>\n",
    "        </p>\n",
    "         <h2>Some other Insights</h2>\n",
    "        <p>\n",
    "        I went ahead to plot some information on charts so we can understand the trends so much easier. Come along as I share them with you. \n",
    "        </p>\n",
    "        <h3>Histogram</h3>\n",
    "        <img src=\"histogram.png\" alt=\"A histogram\" >\n",
    "        <p>\n",
    "        This histogram plots the distribution of ratings. We notice that most ratings fall between 1.0 and 1.4\n",
    "        </p>\n",
    "        <h3>Bar Chart</h3>\n",
    "        <img src=\"bar_chart.png\" alt=\"A histogram\" >\n",
    "        <p>\n",
    "        This bar chart allows us see how many posts each dog type has. We observe visually that Puppers have the highest number of posts.\n",
    "        </p>\n",
    "        <p>\n",
    "       \n",
    "    </body>\n",
    "</html>\n",
    "'''\n",
    "\n",
    "file = open(\"act_report.html\",\"w\")\n",
    "file.write(text)\n",
    "file.close()"
   ]
  }
 ],
 "metadata": {
  "kernelspec": {
   "display_name": "Python 3",
   "language": "python",
   "name": "python3"
  },
  "language_info": {
   "codemirror_mode": {
    "name": "ipython",
    "version": 3
   },
   "file_extension": ".py",
   "mimetype": "text/x-python",
   "name": "python",
   "nbconvert_exporter": "python",
   "pygments_lexer": "ipython3",
   "version": "3.6.3"
  }
 },
 "nbformat": 4,
 "nbformat_minor": 2
}
